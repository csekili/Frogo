{
 "cells": [
  {
   "cell_type": "markdown",
   "metadata": {},
   "source": [
    "<h3>Loading dataset</h3>"
   ]
  },
  {
   "cell_type": "code",
   "execution_count": 1,
   "metadata": {},
   "outputs": [
    {
     "data": {
      "text/html": [
       "<div>\n",
       "<style scoped>\n",
       "    .dataframe tbody tr th:only-of-type {\n",
       "        vertical-align: middle;\n",
       "    }\n",
       "\n",
       "    .dataframe tbody tr th {\n",
       "        vertical-align: top;\n",
       "    }\n",
       "\n",
       "    .dataframe thead th {\n",
       "        text-align: right;\n",
       "    }\n",
       "</style>\n",
       "<table border=\"1\" class=\"dataframe\">\n",
       "  <thead>\n",
       "    <tr style=\"text-align: right;\">\n",
       "      <th></th>\n",
       "      <th>Time</th>\n",
       "      <th>Temperature</th>\n",
       "      <th>Pressure0</th>\n",
       "      <th>Pressure</th>\n",
       "      <th>Humidity</th>\n",
       "      <th>Wind_speed</th>\n",
       "      <th>mist</th>\n",
       "      <th>Unnamed: 7</th>\n",
       "      <th>snow</th>\n",
       "      <th>rain</th>\n",
       "      <th>...</th>\n",
       "      <th>Wind_direction_variable</th>\n",
       "      <th>Wind_direction_west</th>\n",
       "      <th>Wind_direction_west-northwest</th>\n",
       "      <th>Wind_direction_west-southwest</th>\n",
       "      <th>Cloud_</th>\n",
       "      <th>Cloud_broken clouds</th>\n",
       "      <th>Cloud_few clouds</th>\n",
       "      <th>Cloud_no significant clouds</th>\n",
       "      <th>Cloud_overcast</th>\n",
       "      <th>Cloud_scattered clouds</th>\n",
       "    </tr>\n",
       "  </thead>\n",
       "  <tbody>\n",
       "    <tr>\n",
       "      <th>0</th>\n",
       "      <td>1420070400</td>\n",
       "      <td>-12</td>\n",
       "      <td>762.5</td>\n",
       "      <td>777.7</td>\n",
       "      <td>85</td>\n",
       "      <td>2</td>\n",
       "      <td>1</td>\n",
       "      <td>0</td>\n",
       "      <td>0</td>\n",
       "      <td>0</td>\n",
       "      <td>...</td>\n",
       "      <td>1</td>\n",
       "      <td>0</td>\n",
       "      <td>0</td>\n",
       "      <td>0</td>\n",
       "      <td>0</td>\n",
       "      <td>0</td>\n",
       "      <td>0</td>\n",
       "      <td>1</td>\n",
       "      <td>0</td>\n",
       "      <td>0</td>\n",
       "    </tr>\n",
       "    <tr>\n",
       "      <th>1</th>\n",
       "      <td>1420072200</td>\n",
       "      <td>-11</td>\n",
       "      <td>761.9</td>\n",
       "      <td>777.0</td>\n",
       "      <td>85</td>\n",
       "      <td>1</td>\n",
       "      <td>1</td>\n",
       "      <td>0</td>\n",
       "      <td>0</td>\n",
       "      <td>0</td>\n",
       "      <td>...</td>\n",
       "      <td>1</td>\n",
       "      <td>0</td>\n",
       "      <td>0</td>\n",
       "      <td>0</td>\n",
       "      <td>0</td>\n",
       "      <td>0</td>\n",
       "      <td>0</td>\n",
       "      <td>1</td>\n",
       "      <td>0</td>\n",
       "      <td>0</td>\n",
       "    </tr>\n",
       "    <tr>\n",
       "      <th>2</th>\n",
       "      <td>1420074000</td>\n",
       "      <td>-10</td>\n",
       "      <td>761.9</td>\n",
       "      <td>777.0</td>\n",
       "      <td>85</td>\n",
       "      <td>1</td>\n",
       "      <td>1</td>\n",
       "      <td>0</td>\n",
       "      <td>0</td>\n",
       "      <td>0</td>\n",
       "      <td>...</td>\n",
       "      <td>1</td>\n",
       "      <td>0</td>\n",
       "      <td>0</td>\n",
       "      <td>0</td>\n",
       "      <td>0</td>\n",
       "      <td>0</td>\n",
       "      <td>0</td>\n",
       "      <td>1</td>\n",
       "      <td>0</td>\n",
       "      <td>0</td>\n",
       "    </tr>\n",
       "    <tr>\n",
       "      <th>3</th>\n",
       "      <td>1420075800</td>\n",
       "      <td>-10</td>\n",
       "      <td>761.9</td>\n",
       "      <td>777.0</td>\n",
       "      <td>85</td>\n",
       "      <td>0</td>\n",
       "      <td>1</td>\n",
       "      <td>0</td>\n",
       "      <td>0</td>\n",
       "      <td>0</td>\n",
       "      <td>...</td>\n",
       "      <td>0</td>\n",
       "      <td>0</td>\n",
       "      <td>0</td>\n",
       "      <td>0</td>\n",
       "      <td>0</td>\n",
       "      <td>0</td>\n",
       "      <td>0</td>\n",
       "      <td>0</td>\n",
       "      <td>0</td>\n",
       "      <td>1</td>\n",
       "    </tr>\n",
       "    <tr>\n",
       "      <th>4</th>\n",
       "      <td>1420077600</td>\n",
       "      <td>-9</td>\n",
       "      <td>762</td>\n",
       "      <td>777.0</td>\n",
       "      <td>79</td>\n",
       "      <td>0</td>\n",
       "      <td>1</td>\n",
       "      <td>0</td>\n",
       "      <td>0</td>\n",
       "      <td>0</td>\n",
       "      <td>...</td>\n",
       "      <td>0</td>\n",
       "      <td>0</td>\n",
       "      <td>0</td>\n",
       "      <td>0</td>\n",
       "      <td>0</td>\n",
       "      <td>0</td>\n",
       "      <td>0</td>\n",
       "      <td>0</td>\n",
       "      <td>0</td>\n",
       "      <td>1</td>\n",
       "    </tr>\n",
       "  </tbody>\n",
       "</table>\n",
       "<p>5 rows × 41 columns</p>\n",
       "</div>"
      ],
      "text/plain": [
       "         Time Temperature Pressure0  Pressure Humidity Wind_speed  mist  \\\n",
       "0  1420070400         -12     762.5     777.7       85          2     1   \n",
       "1  1420072200         -11     761.9     777.0       85          1     1   \n",
       "2  1420074000         -10     761.9     777.0       85          1     1   \n",
       "3  1420075800         -10     761.9     777.0       85          0     1   \n",
       "4  1420077600          -9       762     777.0       79          0     1   \n",
       "\n",
       "   Unnamed: 7  snow  rain           ...            Wind_direction_variable  \\\n",
       "0           0     0     0           ...                                  1   \n",
       "1           0     0     0           ...                                  1   \n",
       "2           0     0     0           ...                                  1   \n",
       "3           0     0     0           ...                                  0   \n",
       "4           0     0     0           ...                                  0   \n",
       "\n",
       "   Wind_direction_west  Wind_direction_west-northwest  \\\n",
       "0                    0                              0   \n",
       "1                    0                              0   \n",
       "2                    0                              0   \n",
       "3                    0                              0   \n",
       "4                    0                              0   \n",
       "\n",
       "   Wind_direction_west-southwest  Cloud_  Cloud_broken clouds  \\\n",
       "0                              0       0                    0   \n",
       "1                              0       0                    0   \n",
       "2                              0       0                    0   \n",
       "3                              0       0                    0   \n",
       "4                              0       0                    0   \n",
       "\n",
       "   Cloud_few clouds  Cloud_no significant clouds  Cloud_overcast  \\\n",
       "0                 0                            1               0   \n",
       "1                 0                            1               0   \n",
       "2                 0                            1               0   \n",
       "3                 0                            0               0   \n",
       "4                 0                            0               0   \n",
       "\n",
       "   Cloud_scattered clouds  \n",
       "0                       0  \n",
       "1                       0  \n",
       "2                       0  \n",
       "3                       1  \n",
       "4                       1  \n",
       "\n",
       "[5 rows x 41 columns]"
      ]
     },
     "execution_count": 1,
     "metadata": {},
     "output_type": "execute_result"
    }
   ],
   "source": [
    "import pandas as pd\n",
    "import numpy as np\n",
    "\n",
    "# import csv\n",
    "df = pd.read_csv('modified_dataset.csv', \n",
    "                 dtype={'Temperature':str, \n",
    "                        'Pressure0':str, \n",
    "                        'Humidity':str, \n",
    "                        'Wind_speed':str}, \n",
    "                 delimiter=';', \n",
    "                 na_filter=False)\n",
    "df.head()"
   ]
  },
  {
   "cell_type": "markdown",
   "metadata": {},
   "source": [
    "<h3>Preparing input and output sequence</h3>"
   ]
  },
  {
   "cell_type": "code",
   "execution_count": 2,
   "metadata": {},
   "outputs": [],
   "source": [
    "def series_to_supervised(data, n_in=1, n_out=1, dropnan=True):\n",
    "    n_vars = 1 if type(data) is list else data.shape[1]\n",
    "    \n",
    "    df = pd.DataFrame(data)\n",
    "    cols, names = list(), list()\n",
    "    \n",
    "    # input sequence (t-n, ... t-1)\n",
    "    for i in range(n_in, 0, -1):\n",
    "        cols.append(df.shift(i))\n",
    "        names += [('var%d(t-%d)' % (j+1, i)) for j in range(n_vars)]\n",
    "    \n",
    "    # forecast sequence (t, t+1, ... t+n)\n",
    "    for i in range(0, n_out):\n",
    "        cols.append(df.shift(-i))\n",
    "        if i == 0:\n",
    "            names += [('var%d(t)' % (j+1)) for j in range(n_vars)]\n",
    "        else:\n",
    "            names += [('var%d(t+%d)' % (j+1, i)) for j in range(n_vars)]\n",
    "    \n",
    "    # put it all together\n",
    "    agg = pd.concat(cols, axis=1)\n",
    "    agg.columns = names\n",
    "    \n",
    "    # drop rows with NaN values\n",
    "    if dropnan:\n",
    "        agg.dropna(inplace=True)\n",
    "\n",
    "    return agg"
   ]
  },
  {
   "cell_type": "code",
   "execution_count": 3,
   "metadata": {},
   "outputs": [],
   "source": [
    "X = np.array(df.loc[:,(df.columns != 'Time')].values)\n",
    "Y = np.array(df['Temperature'])\n",
    "X = X[:-1]\n",
    "Y = Y[1:]"
   ]
  },
  {
   "cell_type": "code",
   "execution_count": 4,
   "metadata": {
    "scrolled": false
   },
   "outputs": [],
   "source": [
    "for idx, val in enumerate(X[:,0]):\n",
    "    if val=='':\n",
    "        X[:,0][idx] = (np.float64(X[:,0][idx-1])+np.float64(X[:,0][idx+1]))/2\n",
    "    else:\n",
    "        X[:,0][idx] = np.float64(val)\n",
    "        \n",
    "for idx, val in enumerate(X[:,1]):\n",
    "    if val=='':\n",
    "        X[:,1][idx] = (np.float64(X[:,1][idx-1])+np.float64(X[:,1][idx+1]))/2\n",
    "    else:\n",
    "        X[:,1][idx] = np.float64(val)\n",
    "        \n",
    "\n",
    "for idx, val in enumerate(X[:,2]):\n",
    "    if val=='':\n",
    "        X[:,2][idx] = (int(X[:,2][idx-1])+int(X[:,2][idx+1]))/2\n",
    "    else:\n",
    "        X[:,2][idx] = int(val)\n",
    "        \n",
    "for idx, val in enumerate(X[:,3]):\n",
    "    if val=='':\n",
    "        X[:,3][idx] = (int(X[:,3][idx-1])+int(X[:,3][idx+1]))/2\n",
    "    else:\n",
    "        X[:,3][idx] = int(val)\n",
    "        \n",
    "for idx, val in enumerate(X[:,4]):\n",
    "    if val=='':\n",
    "        X[:,4][idx] = (int(X[:,4][idx-1])+int(X[:,4][idx+1]))/2\n",
    "    else:\n",
    "        X[:,4][idx] = int(val)\n",
    "        \n",
    "for idx, val in enumerate(Y):\n",
    "    if val=='':\n",
    "        Y[idx] = (int(Y[idx-1])+int(Y[idx+1]))/2\n",
    "    else:\n",
    "        Y[idx] = int(val)\n",
    "\n",
    "Y2=np.zeros((63133,2), dtype='float64')\n",
    "Y2[0:63133, 1] = Y[0:63133]\n",
    "Y2[0:63133, 0] = Y[1:63134]\n",
    "\n",
    "X2 = X[1:63134,:]\n",
    "\n",
    "X=X2\n",
    "Y=Y2"
   ]
  },
  {
   "cell_type": "code",
   "execution_count": 5,
   "metadata": {},
   "outputs": [
    {
     "name": "stderr",
     "output_type": "stream",
     "text": [
      "Using TensorFlow backend.\n"
     ]
    }
   ],
   "source": [
    "import numpy as np\n",
    "from keras.models import Sequential\n",
    "from keras.layers.core import Activation, Dense, Flatten\n",
    "from keras.optimizers import SGD\n",
    "from keras.wrappers import scikit_learn\n",
    "from keras.wrappers.scikit_learn import KerasRegressor\n",
    "import matplotlib.pyplot as plt\n",
    "%matplotlib inline\n",
    "import pandas as pd\n",
    "import tensorflow as tf\n",
    "from sklearn.metrics import mean_squared_error\n",
    "from sklearn import preprocessing\n",
    "from keras.layers import LSTM"
   ]
  },
  {
   "cell_type": "markdown",
   "metadata": {},
   "source": [
    "<h3>Preprocessing data</h3>"
   ]
  },
  {
   "cell_type": "code",
   "execution_count": 6,
   "metadata": {},
   "outputs": [
    {
     "name": "stderr",
     "output_type": "stream",
     "text": [
      "C:\\Users\\admin\\AppData\\Local\\conda\\conda\\envs\\tensorflow\\lib\\site-packages\\sklearn\\utils\\validation.py:475: DataConversionWarning: Data with input dtype object was converted to float64 by StandardScaler.\n",
      "  warnings.warn(msg, DataConversionWarning)\n"
     ]
    },
    {
     "name": "stdout",
     "output_type": "stream",
     "text": [
      "(50506, 40)\n",
      "(50506, 2)\n"
     ]
    }
   ],
   "source": [
    "nb_samples = len(X)\n",
    "test_split = 0.2\n",
    "# splitting train-validation-test sets\n",
    "X_train = X[0:int(nb_samples*(1-test_split))]\n",
    "Y_train = Y[0:int(nb_samples*(1-test_split))]\n",
    "X_test  = X[int(nb_samples*(1-test_split)):]\n",
    "Y_test  = Y[int(nb_samples*(1-test_split)):]\n",
    "\n",
    "# standardizing\n",
    "scaler = preprocessing.StandardScaler().fit(X_train)\n",
    "\n",
    "from sklearn.externals import joblib\n",
    "scaler_filename = \"scaler.save\"\n",
    "joblib.dump(scaler, scaler_filename) \n",
    "\n",
    "X_train = scaler.transform(X_train)\n",
    "X_test  = scaler.transform(X_test)\n",
    "\n",
    "print(X_train.shape)\n",
    "print(Y_train.shape)"
   ]
  },
  {
   "cell_type": "markdown",
   "metadata": {},
   "source": [
    "<h3>Loss function definition</h3>"
   ]
  },
  {
   "cell_type": "code",
   "execution_count": 7,
   "metadata": {},
   "outputs": [],
   "source": [
    "import keras.backend as K\n",
    "#print(np.max(Y_train[0:,0]-Y_train[0:,1]))\n",
    "\n",
    "def vori(y_true, y_pred):\n",
    "    mse= K.square(K.tf.subtract(y_true[:,0], y_pred))\n",
    "    constr = K.maximum(K.tf.subtract(K.abs(K.tf.subtract(y_true[:,1], y_pred)),\n",
    "                     K.constant(value=12.0, dtype = 'float32')),\n",
    "                     K.constant(value= 0.0, dtype = 'float32'))\n",
    "    return(K.mean(mse+constr))\n",
    "\n",
    "\n",
    "#regm.compile(optimizer=adam, loss=[AAD_loss(1.0)], metrics=['accuracy']) "
   ]
  },
  {
   "cell_type": "markdown",
   "metadata": {},
   "source": [
    "<h3>Model definition</h3>"
   ]
  },
  {
   "cell_type": "code",
   "execution_count": 8,
   "metadata": {},
   "outputs": [],
   "source": [
    "def model():\n",
    "    model = Sequential()\n",
    "    model.add(Dense(4, input_dim=40, activation='relu'))\n",
    "    model.add(Dense(2, activation='relu'))\n",
    "    model.add(Dense(1, activation='linear'))\n",
    "    model.compile(loss=vori, optimizer='adam')\n",
    "    return model"
   ]
  },
  {
   "cell_type": "markdown",
   "metadata": {},
   "source": [
    "<h3> Training </h3>"
   ]
  },
  {
   "cell_type": "code",
   "execution_count": 9,
   "metadata": {},
   "outputs": [
    {
     "name": "stdout",
     "output_type": "stream",
     "text": [
      "Epoch 1/25\n",
      "50506/50506 [==============================] - 9s 178us/step - loss: 106.3168\n",
      "Epoch 2/25\n",
      "50506/50506 [==============================] - 8s 162us/step - loss: 95.7965\n",
      "Epoch 3/25\n",
      "50506/50506 [==============================] - 8s 153us/step - loss: 95.5782\n",
      "Epoch 4/25\n",
      "50506/50506 [==============================] - 8s 154us/step - loss: 95.4451\n",
      "Epoch 5/25\n",
      "50506/50506 [==============================] - 7s 147us/step - loss: 95.4518\n",
      "Epoch 6/25\n",
      "50506/50506 [==============================] - 8s 163us/step - loss: 95.4070\n",
      "Epoch 7/25\n",
      "50506/50506 [==============================] - 7s 147us/step - loss: 95.4015\n",
      "Epoch 8/25\n",
      "50506/50506 [==============================] - 8s 154us/step - loss: 95.4028\n",
      "Epoch 9/25\n",
      "50506/50506 [==============================] - 7s 148us/step - loss: 95.3784\n",
      "Epoch 10/25\n",
      "50506/50506 [==============================] - 8s 166us/step - loss: 95.3441\n",
      "Epoch 11/25\n",
      "50506/50506 [==============================] - 7s 137us/step - loss: 95.3340\n",
      "Epoch 12/25\n",
      "50506/50506 [==============================] - 7s 148us/step - loss: 95.3200\n",
      "Epoch 13/25\n",
      "50506/50506 [==============================] - 7s 147us/step - loss: 95.3129\n",
      "Epoch 14/25\n",
      "50506/50506 [==============================] - 8s 153us/step - loss: 95.3148\n",
      "Epoch 15/25\n",
      "50506/50506 [==============================] - 7s 148us/step - loss: 95.3083\n",
      "Epoch 16/25\n",
      "50506/50506 [==============================] - 8s 152us/step - loss: 95.3288\n",
      "Epoch 17/25\n",
      "50506/50506 [==============================] - 8s 149us/step - loss: 95.3204\n",
      "Epoch 18/25\n",
      "50506/50506 [==============================] - 8s 160us/step - loss: 95.3338\n",
      "Epoch 19/25\n",
      "50506/50506 [==============================] - 7s 142us/step - loss: 95.2757\n",
      "Epoch 20/25\n",
      "50506/50506 [==============================] - 8s 151us/step - loss: 95.2586\n",
      "Epoch 21/25\n",
      "50506/50506 [==============================] - 7s 146us/step - loss: 95.3401\n",
      "Epoch 22/25\n",
      "50506/50506 [==============================] - 7s 148us/step - loss: 95.2884\n",
      "Epoch 23/25\n",
      "50506/50506 [==============================] - 7s 147us/step - loss: 95.3017\n",
      "Epoch 24/25\n",
      "50506/50506 [==============================] - 7s 144us/step - loss: 95.2902\n",
      "Epoch 25/25\n",
      "50506/50506 [==============================] - 8s 153us/step - loss: 95.3030\n"
     ]
    }
   ],
   "source": [
    "estimator = KerasRegressor(build_fn=model, epochs=25, batch_size=16,verbose=1)\n",
    "history = estimator.fit(X_train, Y_train)"
   ]
  },
  {
   "cell_type": "code",
   "execution_count": 10,
   "metadata": {},
   "outputs": [],
   "source": [
    "estimator.model.save('saved_model.h5')"
   ]
  },
  {
   "cell_type": "markdown",
   "metadata": {},
   "source": [
    "<h3>Predicting</h3>"
   ]
  },
  {
   "cell_type": "code",
   "execution_count": 11,
   "metadata": {},
   "outputs": [
    {
     "name": "stdout",
     "output_type": "stream",
     "text": [
      "12627/12627 [==============================] - 1s 52us/step\n"
     ]
    }
   ],
   "source": [
    "pred = estimator.predict(X_test)"
   ]
  },
  {
   "cell_type": "code",
   "execution_count": 12,
   "metadata": {},
   "outputs": [
    {
     "name": "stdout",
     "output_type": "stream",
     "text": [
      "dict_keys(['loss'])\n",
      "[10.325462 10.151799 10.151799 10.350697 10.082461  9.925639 10.274377\n",
      " 10.195604  9.778502  9.717109]\n"
     ]
    }
   ],
   "source": [
    "print(history.history.keys())\n",
    "print(pred[:10])"
   ]
  },
  {
   "cell_type": "code",
   "execution_count": 13,
   "metadata": {},
   "outputs": [
    {
     "data": {
      "image/png": "[encoded data removed]",
      "text/plain": [
       "<Figure size 432x288 with 1 Axes>"
      ]
     },
     "metadata": {
      "needs_background": "light"
     },
     "output_type": "display_data"
    }
   ],
   "source": [
    "plt.plot(history.history['loss'])\n",
    "plt.show()"
   ]
  },
  {
   "cell_type": "code",
   "execution_count": 14,
   "metadata": {},
   "outputs": [
    {
     "data": {
      "image/png": "[encoded data removed]",
      "text/plain": [
       "<Figure size 432x288 with 1 Axes>"
      ]
     },
     "metadata": {
      "needs_background": "light"
     },
     "output_type": "display_data"
    }
   ],
   "source": [
    "plt.plot(Y_test[::48])\n",
    "#plt.plot(pred[::48])\n",
    "plt.title('Prediction')\n",
    "plt.show()"
   ]
  },
  {
   "cell_type": "code",
   "execution_count": 15,
   "metadata": {},
   "outputs": [
    {
     "data": {
      "image/png": "[encoded data removed]",
      "text/plain": [
       "<Figure size 432x288 with 1 Axes>"
      ]
     },
     "metadata": {
      "needs_background": "light"
     },
     "output_type": "display_data"
    }
   ],
   "source": [
    "c = []\n",
    "\n",
    "for i in range(len(Y_test)):\n",
    "    c.append(abs(pred[i] - Y_test[i]))\n",
    "    \n",
    "plt.plot(c[::48])\n",
    "plt.plot(Y_test[::48])\n",
    "plt.title('Absolute error')\n",
    "plt.show()"
   ]
  },
  {
   "cell_type": "code",
   "execution_count": 16,
   "metadata": {},
   "outputs": [],
   "source": [
    "import re\n",
    "import pandas as pd\n",
    "import numpy as np\n",
    "from sklearn import preprocessing\n",
    "\n",
    "df = pd.read_csv('modified_dataset.csv', dtype={'Temperature':str, 'Pressure0':str, 'Humidity':str, 'Wind_speed':str}, delimiter=';', na_filter=False)\n",
    "\n",
    "from sklearn.externals import joblib\n",
    "scaler_filename = \"scaler.save\"\n",
    "scaler = joblib.load(scaler_filename) \n",
    "\n",
    "\n",
    "array_test = []\n",
    "phenomena = ['mist', '', 'snow', 'rain', 'fog', 'shower', 'drizzle', 'squall', 'thunderstorm', 'hail']\n",
    "\n",
    "df_test = pd.read_csv('test.csv', dtype={'Temperature':str, 'Pressure0':str, 'Humidity':str, 'Wind_speed':str}, delimiter=',',skipinitialspace=True,  na_filter=False)\n",
    "exp = '[rR]ain|[fF]og|[tT]hunderstorm|[sS]now|[hH]ail|[mM]ist|[Ss]hower|[Dd]rizzle|[Ss]quall'\n",
    "exp_wind = '(Wind blowing from the )|( wind direction)|(Calm, )'\n",
    "l = 0\n",
    "for idx in df_test.index:\n",
    "    df_test.at[idx, 'Wind_direction'] = re.sub(exp_wind, '', df_test.at[idx, 'Wind_direction'])\n",
    "    df_test.at[idx, 'Phenomena'] = (', '.join(re.findall(exp, df_test.at[idx, 'Phenomena']))).lower()\n",
    "    df_test.at[idx, 'Cloud'] = df_test.at[idx, 'Cloud'].split(' (')[0].split('Vertical')[0].lower()\n",
    "\n",
    "for word in phenomena:\n",
    "    array_test.append([])\n",
    "    for line in df_test['Phenomena']:\n",
    "        separated = line.replace(\" \", \"\").split(',')\n",
    "        if word in separated:\n",
    "            array_test[l].append(1)\n",
    "        else:\n",
    "            array_test[l].append(0)\n",
    "    l+=1\n",
    "        \n",
    "for l in range(len(array_test)):\n",
    "    df_test[phenomena[l]] = array_test[l]\n",
    "\n",
    "df_test = df_test.drop('Phenomena', axis=1)\n",
    "\n",
    "\n",
    "\n",
    "df_test = pd.get_dummies(df_test, columns=[\"Wind_direction\",\"Cloud\"])\n",
    "\n",
    "arr = np.zeros(len(df_test))\n",
    "\n",
    "\n",
    "for column in df:\n",
    "    if column not in df_test:\n",
    "        df_test[column] = arr\n",
    "        \n",
    "columnsTitles = df.columns.values\n",
    "df_test = df_test.reindex(columns=columnsTitles)\n",
    "\n",
    "df_test.to_csv (r'modified_testset.csv', index = None, header=True, sep=';')"
   ]
  },
  {
   "cell_type": "code",
   "execution_count": 17,
   "metadata": {},
   "outputs": [
    {
     "name": "stderr",
     "output_type": "stream",
     "text": [
      "C:\\Users\\admin\\AppData\\Local\\conda\\conda\\envs\\tensorflow\\lib\\site-packages\\sklearn\\utils\\validation.py:475: DataConversionWarning: Data with input dtype object was converted to float64 by StandardScaler.\n",
      "  warnings.warn(msg, DataConversionWarning)\n"
     ]
    }
   ],
   "source": [
    "XPRED = np.array(df_test.loc[:, (df_test.columns != 'Time')].values)\n",
    "YPRED = np.array(df_test['Temperature'])\n",
    "\n",
    "XPRED = XPRED[:-1]\n",
    "YPRED = YPRED[1:]\n",
    "\n",
    "    \n",
    "for idx, val in enumerate(XPRED[:,0]):\n",
    "    if val=='':\n",
    "        XPRED[:,0][idx] = (np.float64(XPRED[:,0][idx-1])+np.float64(XPRED[:,0][idx+1]))/2\n",
    "    else:\n",
    "        XPRED[:,0][idx] = np.float64(val)\n",
    "\n",
    "for idx, val in enumerate(XPRED[:,1]):\n",
    "    if val=='':\n",
    "        XPRED[:,1][idx] = (np.float64(XPRED[:,1][idx-1])+np.float64(XPRED[:,1][idx+1]))/2\n",
    "    else:\n",
    "        XPRED[:,1][idx] = np.float64(val)\n",
    "\n",
    "\n",
    "for idx, val in enumerate(XPRED[:,2]):\n",
    "    if val=='':\n",
    "        XPRED[:,2][idx] = (int(XPRED[:,2][idx-1])+int(XPRED[:,2][idx+1]))/2\n",
    "    else:\n",
    "        XPRED[:,2][idx] = int(val)\n",
    "\n",
    "for idx, val in enumerate(XPRED[:,4]):\n",
    "    if val=='':\n",
    "        XPRED[:,4][idx] = (int(XPRED[:,4][idx-1])+int(XPRED[:,4][idx+1]))/2\n",
    "    else:\n",
    "        XPRED[:,4][idx] = int(val)\n",
    "\n",
    "#print(YPRED[0])\n",
    "\n",
    "XPRED = scaler.transform(XPRED)"
   ]
  },
  {
   "cell_type": "code",
   "execution_count": 18,
   "metadata": {},
   "outputs": [
    {
     "name": "stdout",
     "output_type": "stream",
     "text": [
      "95/95 [==============================] - 0s 168us/step\n"
     ]
    }
   ],
   "source": [
    "eredmeny = estimator.predict(XPRED)"
   ]
  },
  {
   "cell_type": "code",
   "execution_count": 19,
   "metadata": {},
   "outputs": [
    {
     "data": {
      "image/png": "[encoded data removed]",
      "text/plain": [
       "<Figure size 432x288 with 1 Axes>"
      ]
     },
     "metadata": {
      "needs_background": "light"
     },
     "output_type": "display_data"
    }
   ],
   "source": [
    "import matplotlib.pyplot as plt\n",
    "\n",
    "plt.plot(eredmeny)\n",
    "plt.plot(YPRED)\n",
    "plt.title('Prediction')\n",
    "plt.show()"
   ]
  },
  {
   "cell_type": "code",
   "execution_count": 20,
   "metadata": {},
   "outputs": [
    {
     "name": "stdout",
     "output_type": "stream",
     "text": [
      "predicted:  10.1  real:  5\n",
      "predicted:  10.1  real:  5\n",
      "predicted:  10.1  real:  5\n",
      "predicted:  10.1  real:  5\n",
      "predicted:  11.9  real:  5\n",
      "predicted:  14.9  real:  5\n",
      "predicted:  14.9  real:  5\n",
      "predicted:  11.7  real:  5\n",
      "predicted:  10.0  real:  5\n",
      "predicted:  9.8  real:  5\n",
      "predicted:  9.7  real:  5\n",
      "predicted:  10.1  real:  5\n",
      "predicted:  10.1  real:  5\n",
      "predicted:  10.1  real:  5\n",
      "predicted:  10.1  real:  5\n",
      "predicted:  10.1  real:  5\n",
      "predicted:  10.1  real:  5\n",
      "predicted:  9.5  real:  5\n",
      "predicted:  9.8  real:  5\n",
      "predicted:  9.9  real:  5\n",
      "predicted:  10.2  real:  5\n",
      "predicted:  10.2  real:  6\n",
      "predicted:  10.3  real:  6\n",
      "predicted:  10.4  real:  6\n",
      "predicted:  15.1  real:  5\n",
      "predicted:  12.1  real:  6\n",
      "predicted:  10.3  real:  6\n",
      "predicted:  10.4  real:  5\n",
      "predicted:  10.2  real:  5\n",
      "predicted:  10.4  real:  6\n",
      "predicted:  10.2  real:  5\n",
      "predicted:  10.1  real:  5\n",
      "predicted:  9.6  real:  5\n",
      "predicted:  9.8  real:  5\n",
      "predicted:  9.2  real:  5\n",
      "predicted:  10.0  real:  5\n",
      "predicted:  9.7  real:  5\n",
      "predicted:  9.8  real:  5\n",
      "predicted:  9.8  real:  5\n",
      "predicted:  9.8  real:  5\n",
      "predicted:  9.7  real:  5\n",
      "predicted:  9.7  real:  5\n",
      "predicted:  9.7  real:  5\n",
      "predicted:  8.9  real:  5\n",
      "predicted:  8.8  real:  5\n",
      "predicted:  8.9  real:  5\n",
      "predicted:  8.9  real:  5\n",
      "predicted:  8.9  real:  5\n",
      "predicted:  8.9  real:  5\n",
      "predicted:  8.9  real:  5\n",
      "predicted:  8.9  real:  5\n",
      "predicted:  9.3  real:  5\n",
      "predicted:  9.6  real:  5\n",
      "predicted:  9.8  real:  5\n",
      "predicted:  9.8  real:  5\n",
      "predicted:  8.9  real:  5\n",
      "predicted:  9.8  real:  5\n",
      "predicted:  9.8  real:  5\n",
      "predicted:  8.8  real:  5\n",
      "predicted:  9.3  real:  5\n",
      "predicted:  9.7  real:  5\n",
      "predicted:  9.7  real:  5\n",
      "predicted:  9.7  real:  5\n",
      "predicted:  10.0  real:  5\n",
      "predicted:  9.4  real:  5\n",
      "predicted:  10.0  real:  5\n",
      "predicted:  10.0  real:  5\n",
      "predicted:  10.1  real:  5\n",
      "predicted:  10.1  real:  5\n",
      "predicted:  11.7  real:  6\n",
      "predicted:  9.8  real:  6\n",
      "predicted:  9.7  real:  6\n",
      "predicted:  10.1  real:  6\n",
      "predicted:  10.1  real:  6\n",
      "predicted:  10.4  real:  7\n",
      "predicted:  10.3  real:  7\n",
      "predicted:  10.3  real:  7\n",
      "predicted:  10.3  real:  7\n",
      "predicted:  10.3  real:  7\n",
      "predicted:  10.3  real:  7\n",
      "predicted:  10.3  real:  7\n",
      "predicted:  10.3  real:  7\n",
      "predicted:  9.9  real:  7\n",
      "predicted:  10.3  real:  7\n",
      "predicted:  9.9  real:  7\n",
      "predicted:  10.0  real:  7\n",
      "predicted:  10.3  real:  7\n",
      "predicted:  10.2  real:  7\n",
      "predicted:  10.2  real:  7\n",
      "predicted:  10.3  real:  7\n",
      "predicted:  10.2  real:  7\n",
      "predicted:  10.2  real:  7\n",
      "predicted:  10.2  real:  6\n",
      "predicted:  10.2  real:  6\n",
      "predicted:  9.9  real:  6\n"
     ]
    }
   ],
   "source": [
    "for i in range (len(eredmeny)):\n",
    "    print(\"predicted: \", \"%.1f\"%eredmeny[i], \" real: \" ,YPRED[i])"
   ]
  },
  {
   "cell_type": "code",
   "execution_count": null,
   "metadata": {},
   "outputs": [],
   "source": []
  }
 ],
 "metadata": {
  "kernelspec": {
   "display_name": "Python 3",
   "language": "python",
   "name": "python3"
  },
  "language_info": {
   "codemirror_mode": {
    "name": "ipython",
    "version": 3
   },
   "file_extension": ".py",
   "mimetype": "text/x-python",
   "name": "python",
   "nbconvert_exporter": "python",
   "pygments_lexer": "ipython3",
   "version": "3.6.6"
  }
 },
 "nbformat": 4,
 "nbformat_minor": 2
}
